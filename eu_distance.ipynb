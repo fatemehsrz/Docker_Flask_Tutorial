{
 "cells": [
  {
   "cell_type": "code",
   "execution_count": null,
   "metadata": {},
   "outputs": [
    {
     "name": "stdout",
     "output_type": "stream",
     "text": [
      " * Serving Flask app '__main__' (lazy loading)\n",
      " * Environment: production\n",
      "\u001b[31m   WARNING: This is a development server. Do not use it in a production deployment.\u001b[0m\n",
      "\u001b[2m   Use a production WSGI server instead.\u001b[0m\n",
      " * Debug mode: off\n"
     ]
    },
    {
     "name": "stderr",
     "output_type": "stream",
     "text": [
      " * Running on http://127.0.0.1:5000/ (Press CTRL+C to quit)\n",
      "127.0.0.1 - - [06/Jun/2023 20:07:12] \"GET / HTTP/1.1\" 200 -\n",
      "127.0.0.1 - - [06/Jun/2023 20:07:12] \"GET /favicon.ico HTTP/1.1\" 404 -\n",
      "127.0.0.1 - - [06/Jun/2023 20:07:14] \"POST /get HTTP/1.1\" 200 -\n",
      "127.0.0.1 - - [06/Jun/2023 20:07:18] \"POST /get HTTP/1.1\" 200 -\n"
     ]
    }
   ],
   "source": [
    "\n",
    "from flask import Flask, request, render_template\n",
    "from scipy.spatial import distance\n",
    "\n",
    "app = Flask(__name__)\n",
    "\n",
    "@app.route('/')\n",
    "\n",
    "def my_form():\n",
    "    return render_template('index6.html')\n",
    "\n",
    "\n",
    "@app.route(\"/get\", methods=[\"POST\"])\n",
    "\n",
    "\n",
    "def my_form_post():\n",
    "    \n",
    "    \n",
    "\n",
    "    \n",
    "    x1 = int( request.form['wordCount1'])\n",
    "    y1 = int( request.form['wordCount2'])\n",
    "    \n",
    "    x2 = int(request.form['sentNumber1'])\n",
    "    y2 = int(request.form['sentNumber2'])\n",
    "    \n",
    "    start=[x1,y1]\n",
    "    goal=[x2,y2]\n",
    "    \n",
    "    \n",
    "    dist= distance.euclidean(start, goal)\n",
    "    \n",
    "      \n",
    "    \n",
    "    return str(dist )\n",
    "\n",
    "\n",
    "\n",
    "if __name__ == \"__main__\":\n",
    "    app.run()"
   ]
  },
  {
   "cell_type": "code",
   "execution_count": null,
   "metadata": {},
   "outputs": [],
   "source": []
  },
  {
   "cell_type": "code",
   "execution_count": null,
   "metadata": {},
   "outputs": [],
   "source": [
    "\n"
   ]
  },
  {
   "cell_type": "code",
   "execution_count": null,
   "metadata": {},
   "outputs": [],
   "source": []
  },
  {
   "cell_type": "code",
   "execution_count": null,
   "metadata": {},
   "outputs": [],
   "source": []
  },
  {
   "cell_type": "code",
   "execution_count": null,
   "metadata": {},
   "outputs": [],
   "source": [
    "\n",
    "    "
   ]
  },
  {
   "cell_type": "code",
   "execution_count": null,
   "metadata": {},
   "outputs": [],
   "source": []
  },
  {
   "cell_type": "code",
   "execution_count": null,
   "metadata": {},
   "outputs": [],
   "source": []
  }
 ],
 "metadata": {
  "kernelspec": {
   "display_name": "Python 3",
   "language": "python",
   "name": "python3"
  },
  "language_info": {
   "codemirror_mode": {
    "name": "ipython",
    "version": 3
   },
   "file_extension": ".py",
   "mimetype": "text/x-python",
   "name": "python",
   "nbconvert_exporter": "python",
   "pygments_lexer": "ipython3",
   "version": "3.8.5"
  }
 },
 "nbformat": 4,
 "nbformat_minor": 4
}
